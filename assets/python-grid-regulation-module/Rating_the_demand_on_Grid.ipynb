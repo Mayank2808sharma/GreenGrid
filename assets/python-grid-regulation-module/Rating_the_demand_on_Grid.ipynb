{
  "nbformat": 4,
  "nbformat_minor": 0,
  "metadata": {
    "colab": {
      "provenance": [],
      "collapsed_sections": []
    },
    "kernelspec": {
      "name": "python3",
      "display_name": "Python 3"
    },
    "language_info": {
      "name": "python"
    }
  },
  "cells": [
    {
      "cell_type": "code",
      "execution_count": null,
      "metadata": {
        "colab": {
          "base_uri": "https://localhost:8080/"
        },
        "id": "X18sqpgfybr4",
        "outputId": "32ec39e0-4c35-4d22-b5a4-287898d45f7b"
      },
      "outputs": [
        {
          "output_type": "stream",
          "name": "stdout",
          "text": [
            "Mounted at /content/drive/\n"
          ]
        }
      ],
      "source": [
        "from google.colab import drive\n",
        "drive.mount('/content/drive/')"
      ]
    },
    {
      "cell_type": "code",
      "source": [
        "import pandas as pd"
      ],
      "metadata": {
        "id": "ebdHfIqP1VKo"
      },
      "execution_count": null,
      "outputs": []
    },
    {
      "cell_type": "code",
      "source": [
        "data=pd.read_csv(\"/content/drive/MyDrive/Dataset/Data (1).csv\")"
      ],
      "metadata": {
        "id": "DZmnbIIf1GpY"
      },
      "execution_count": null,
      "outputs": []
    },
    {
      "cell_type": "code",
      "source": [
        "data.head()"
      ],
      "metadata": {
        "id": "o51swrqG6e3G",
        "outputId": "b7c393dc-8f7b-48b4-f267-5fe9f6ca98e3",
        "colab": {
          "base_uri": "https://localhost:8080/",
          "height": 206
        }
      },
      "execution_count": null,
      "outputs": [
        {
          "output_type": "execute_result",
          "data": {
            "text/plain": [
              "   Day  Month  Hour  Minute Class\n",
              "0    1      1     0       0  HIGH\n",
              "1    1      1     0      10  HIGH\n",
              "2    1      1     0      20  HIGH\n",
              "3    1      1     0      30  HIGH\n",
              "4    1      1     0      40  HIGH"
            ],
            "text/html": [
              "\n",
              "  <div id=\"df-eed03a72-e240-4d42-a19f-cdf3fdc00fc1\">\n",
              "    <div class=\"colab-df-container\">\n",
              "      <div>\n",
              "<style scoped>\n",
              "    .dataframe tbody tr th:only-of-type {\n",
              "        vertical-align: middle;\n",
              "    }\n",
              "\n",
              "    .dataframe tbody tr th {\n",
              "        vertical-align: top;\n",
              "    }\n",
              "\n",
              "    .dataframe thead th {\n",
              "        text-align: right;\n",
              "    }\n",
              "</style>\n",
              "<table border=\"1\" class=\"dataframe\">\n",
              "  <thead>\n",
              "    <tr style=\"text-align: right;\">\n",
              "      <th></th>\n",
              "      <th>Day</th>\n",
              "      <th>Month</th>\n",
              "      <th>Hour</th>\n",
              "      <th>Minute</th>\n",
              "      <th>Class</th>\n",
              "    </tr>\n",
              "  </thead>\n",
              "  <tbody>\n",
              "    <tr>\n",
              "      <th>0</th>\n",
              "      <td>1</td>\n",
              "      <td>1</td>\n",
              "      <td>0</td>\n",
              "      <td>0</td>\n",
              "      <td>HIGH</td>\n",
              "    </tr>\n",
              "    <tr>\n",
              "      <th>1</th>\n",
              "      <td>1</td>\n",
              "      <td>1</td>\n",
              "      <td>0</td>\n",
              "      <td>10</td>\n",
              "      <td>HIGH</td>\n",
              "    </tr>\n",
              "    <tr>\n",
              "      <th>2</th>\n",
              "      <td>1</td>\n",
              "      <td>1</td>\n",
              "      <td>0</td>\n",
              "      <td>20</td>\n",
              "      <td>HIGH</td>\n",
              "    </tr>\n",
              "    <tr>\n",
              "      <th>3</th>\n",
              "      <td>1</td>\n",
              "      <td>1</td>\n",
              "      <td>0</td>\n",
              "      <td>30</td>\n",
              "      <td>HIGH</td>\n",
              "    </tr>\n",
              "    <tr>\n",
              "      <th>4</th>\n",
              "      <td>1</td>\n",
              "      <td>1</td>\n",
              "      <td>0</td>\n",
              "      <td>40</td>\n",
              "      <td>HIGH</td>\n",
              "    </tr>\n",
              "  </tbody>\n",
              "</table>\n",
              "</div>\n",
              "      <button class=\"colab-df-convert\" onclick=\"convertToInteractive('df-eed03a72-e240-4d42-a19f-cdf3fdc00fc1')\"\n",
              "              title=\"Convert this dataframe to an interactive table.\"\n",
              "              style=\"display:none;\">\n",
              "        \n",
              "  <svg xmlns=\"http://www.w3.org/2000/svg\" height=\"24px\"viewBox=\"0 0 24 24\"\n",
              "       width=\"24px\">\n",
              "    <path d=\"M0 0h24v24H0V0z\" fill=\"none\"/>\n",
              "    <path d=\"M18.56 5.44l.94 2.06.94-2.06 2.06-.94-2.06-.94-.94-2.06-.94 2.06-2.06.94zm-11 1L8.5 8.5l.94-2.06 2.06-.94-2.06-.94L8.5 2.5l-.94 2.06-2.06.94zm10 10l.94 2.06.94-2.06 2.06-.94-2.06-.94-.94-2.06-.94 2.06-2.06.94z\"/><path d=\"M17.41 7.96l-1.37-1.37c-.4-.4-.92-.59-1.43-.59-.52 0-1.04.2-1.43.59L10.3 9.45l-7.72 7.72c-.78.78-.78 2.05 0 2.83L4 21.41c.39.39.9.59 1.41.59.51 0 1.02-.2 1.41-.59l7.78-7.78 2.81-2.81c.8-.78.8-2.07 0-2.86zM5.41 20L4 18.59l7.72-7.72 1.47 1.35L5.41 20z\"/>\n",
              "  </svg>\n",
              "      </button>\n",
              "      \n",
              "  <style>\n",
              "    .colab-df-container {\n",
              "      display:flex;\n",
              "      flex-wrap:wrap;\n",
              "      gap: 12px;\n",
              "    }\n",
              "\n",
              "    .colab-df-convert {\n",
              "      background-color: #E8F0FE;\n",
              "      border: none;\n",
              "      border-radius: 50%;\n",
              "      cursor: pointer;\n",
              "      display: none;\n",
              "      fill: #1967D2;\n",
              "      height: 32px;\n",
              "      padding: 0 0 0 0;\n",
              "      width: 32px;\n",
              "    }\n",
              "\n",
              "    .colab-df-convert:hover {\n",
              "      background-color: #E2EBFA;\n",
              "      box-shadow: 0px 1px 2px rgba(60, 64, 67, 0.3), 0px 1px 3px 1px rgba(60, 64, 67, 0.15);\n",
              "      fill: #174EA6;\n",
              "    }\n",
              "\n",
              "    [theme=dark] .colab-df-convert {\n",
              "      background-color: #3B4455;\n",
              "      fill: #D2E3FC;\n",
              "    }\n",
              "\n",
              "    [theme=dark] .colab-df-convert:hover {\n",
              "      background-color: #434B5C;\n",
              "      box-shadow: 0px 1px 3px 1px rgba(0, 0, 0, 0.15);\n",
              "      filter: drop-shadow(0px 1px 2px rgba(0, 0, 0, 0.3));\n",
              "      fill: #FFFFFF;\n",
              "    }\n",
              "  </style>\n",
              "\n",
              "      <script>\n",
              "        const buttonEl =\n",
              "          document.querySelector('#df-eed03a72-e240-4d42-a19f-cdf3fdc00fc1 button.colab-df-convert');\n",
              "        buttonEl.style.display =\n",
              "          google.colab.kernel.accessAllowed ? 'block' : 'none';\n",
              "\n",
              "        async function convertToInteractive(key) {\n",
              "          const element = document.querySelector('#df-eed03a72-e240-4d42-a19f-cdf3fdc00fc1');\n",
              "          const dataTable =\n",
              "            await google.colab.kernel.invokeFunction('convertToInteractive',\n",
              "                                                     [key], {});\n",
              "          if (!dataTable) return;\n",
              "\n",
              "          const docLinkHtml = 'Like what you see? Visit the ' +\n",
              "            '<a target=\"_blank\" href=https://colab.research.google.com/notebooks/data_table.ipynb>data table notebook</a>'\n",
              "            + ' to learn more about interactive tables.';\n",
              "          element.innerHTML = '';\n",
              "          dataTable['output_type'] = 'display_data';\n",
              "          await google.colab.output.renderOutput(dataTable, element);\n",
              "          const docLink = document.createElement('div');\n",
              "          docLink.innerHTML = docLinkHtml;\n",
              "          element.appendChild(docLink);\n",
              "        }\n",
              "      </script>\n",
              "    </div>\n",
              "  </div>\n",
              "  "
            ]
          },
          "metadata": {},
          "execution_count": 4
        }
      ]
    },
    {
      "cell_type": "code",
      "source": [
        "data['Class'].unique()"
      ],
      "metadata": {
        "colab": {
          "base_uri": "https://localhost:8080/"
        },
        "id": "TAOTSites2eV",
        "outputId": "c56c501e-9014-4d9d-884a-bf413fd52304"
      },
      "execution_count": null,
      "outputs": [
        {
          "output_type": "execute_result",
          "data": {
            "text/plain": [
              "array(['HIGH', 'NORMAL', 'LOW'], dtype=object)"
            ]
          },
          "metadata": {},
          "execution_count": 5
        }
      ]
    },
    {
      "cell_type": "code",
      "source": [
        "data.shape"
      ],
      "metadata": {
        "colab": {
          "base_uri": "https://localhost:8080/"
        },
        "id": "Ee8-waXbs2FY",
        "outputId": "aef4ca8e-2674-44f9-b244-8838d595c03c"
      },
      "execution_count": null,
      "outputs": [
        {
          "output_type": "execute_result",
          "data": {
            "text/plain": [
              "(52560, 5)"
            ]
          },
          "metadata": {},
          "execution_count": 6
        }
      ]
    },
    {
      "cell_type": "code",
      "source": [
        "x=data.iloc[:,0:4]\n",
        "y=data.iloc[:,4]"
      ],
      "metadata": {
        "id": "sdhdMns3fpSS"
      },
      "execution_count": null,
      "outputs": []
    },
    {
      "cell_type": "code",
      "source": [
        "x.head()"
      ],
      "metadata": {
        "colab": {
          "base_uri": "https://localhost:8080/",
          "height": 206
        },
        "id": "5tCkI8-KgG9J",
        "outputId": "cadc8d6e-8a6f-445a-9a03-3cb78c22d45d"
      },
      "execution_count": null,
      "outputs": [
        {
          "output_type": "execute_result",
          "data": {
            "text/plain": [
              "   Day  Month  Hour  Minute\n",
              "0    1      1     0       0\n",
              "1    1      1     0      10\n",
              "2    1      1     0      20\n",
              "3    1      1     0      30\n",
              "4    1      1     0      40"
            ],
            "text/html": [
              "\n",
              "  <div id=\"df-0fb77c4f-7207-4855-8798-7a9a37a25d7d\">\n",
              "    <div class=\"colab-df-container\">\n",
              "      <div>\n",
              "<style scoped>\n",
              "    .dataframe tbody tr th:only-of-type {\n",
              "        vertical-align: middle;\n",
              "    }\n",
              "\n",
              "    .dataframe tbody tr th {\n",
              "        vertical-align: top;\n",
              "    }\n",
              "\n",
              "    .dataframe thead th {\n",
              "        text-align: right;\n",
              "    }\n",
              "</style>\n",
              "<table border=\"1\" class=\"dataframe\">\n",
              "  <thead>\n",
              "    <tr style=\"text-align: right;\">\n",
              "      <th></th>\n",
              "      <th>Day</th>\n",
              "      <th>Month</th>\n",
              "      <th>Hour</th>\n",
              "      <th>Minute</th>\n",
              "    </tr>\n",
              "  </thead>\n",
              "  <tbody>\n",
              "    <tr>\n",
              "      <th>0</th>\n",
              "      <td>1</td>\n",
              "      <td>1</td>\n",
              "      <td>0</td>\n",
              "      <td>0</td>\n",
              "    </tr>\n",
              "    <tr>\n",
              "      <th>1</th>\n",
              "      <td>1</td>\n",
              "      <td>1</td>\n",
              "      <td>0</td>\n",
              "      <td>10</td>\n",
              "    </tr>\n",
              "    <tr>\n",
              "      <th>2</th>\n",
              "      <td>1</td>\n",
              "      <td>1</td>\n",
              "      <td>0</td>\n",
              "      <td>20</td>\n",
              "    </tr>\n",
              "    <tr>\n",
              "      <th>3</th>\n",
              "      <td>1</td>\n",
              "      <td>1</td>\n",
              "      <td>0</td>\n",
              "      <td>30</td>\n",
              "    </tr>\n",
              "    <tr>\n",
              "      <th>4</th>\n",
              "      <td>1</td>\n",
              "      <td>1</td>\n",
              "      <td>0</td>\n",
              "      <td>40</td>\n",
              "    </tr>\n",
              "  </tbody>\n",
              "</table>\n",
              "</div>\n",
              "      <button class=\"colab-df-convert\" onclick=\"convertToInteractive('df-0fb77c4f-7207-4855-8798-7a9a37a25d7d')\"\n",
              "              title=\"Convert this dataframe to an interactive table.\"\n",
              "              style=\"display:none;\">\n",
              "        \n",
              "  <svg xmlns=\"http://www.w3.org/2000/svg\" height=\"24px\"viewBox=\"0 0 24 24\"\n",
              "       width=\"24px\">\n",
              "    <path d=\"M0 0h24v24H0V0z\" fill=\"none\"/>\n",
              "    <path d=\"M18.56 5.44l.94 2.06.94-2.06 2.06-.94-2.06-.94-.94-2.06-.94 2.06-2.06.94zm-11 1L8.5 8.5l.94-2.06 2.06-.94-2.06-.94L8.5 2.5l-.94 2.06-2.06.94zm10 10l.94 2.06.94-2.06 2.06-.94-2.06-.94-.94-2.06-.94 2.06-2.06.94z\"/><path d=\"M17.41 7.96l-1.37-1.37c-.4-.4-.92-.59-1.43-.59-.52 0-1.04.2-1.43.59L10.3 9.45l-7.72 7.72c-.78.78-.78 2.05 0 2.83L4 21.41c.39.39.9.59 1.41.59.51 0 1.02-.2 1.41-.59l7.78-7.78 2.81-2.81c.8-.78.8-2.07 0-2.86zM5.41 20L4 18.59l7.72-7.72 1.47 1.35L5.41 20z\"/>\n",
              "  </svg>\n",
              "      </button>\n",
              "      \n",
              "  <style>\n",
              "    .colab-df-container {\n",
              "      display:flex;\n",
              "      flex-wrap:wrap;\n",
              "      gap: 12px;\n",
              "    }\n",
              "\n",
              "    .colab-df-convert {\n",
              "      background-color: #E8F0FE;\n",
              "      border: none;\n",
              "      border-radius: 50%;\n",
              "      cursor: pointer;\n",
              "      display: none;\n",
              "      fill: #1967D2;\n",
              "      height: 32px;\n",
              "      padding: 0 0 0 0;\n",
              "      width: 32px;\n",
              "    }\n",
              "\n",
              "    .colab-df-convert:hover {\n",
              "      background-color: #E2EBFA;\n",
              "      box-shadow: 0px 1px 2px rgba(60, 64, 67, 0.3), 0px 1px 3px 1px rgba(60, 64, 67, 0.15);\n",
              "      fill: #174EA6;\n",
              "    }\n",
              "\n",
              "    [theme=dark] .colab-df-convert {\n",
              "      background-color: #3B4455;\n",
              "      fill: #D2E3FC;\n",
              "    }\n",
              "\n",
              "    [theme=dark] .colab-df-convert:hover {\n",
              "      background-color: #434B5C;\n",
              "      box-shadow: 0px 1px 3px 1px rgba(0, 0, 0, 0.15);\n",
              "      filter: drop-shadow(0px 1px 2px rgba(0, 0, 0, 0.3));\n",
              "      fill: #FFFFFF;\n",
              "    }\n",
              "  </style>\n",
              "\n",
              "      <script>\n",
              "        const buttonEl =\n",
              "          document.querySelector('#df-0fb77c4f-7207-4855-8798-7a9a37a25d7d button.colab-df-convert');\n",
              "        buttonEl.style.display =\n",
              "          google.colab.kernel.accessAllowed ? 'block' : 'none';\n",
              "\n",
              "        async function convertToInteractive(key) {\n",
              "          const element = document.querySelector('#df-0fb77c4f-7207-4855-8798-7a9a37a25d7d');\n",
              "          const dataTable =\n",
              "            await google.colab.kernel.invokeFunction('convertToInteractive',\n",
              "                                                     [key], {});\n",
              "          if (!dataTable) return;\n",
              "\n",
              "          const docLinkHtml = 'Like what you see? Visit the ' +\n",
              "            '<a target=\"_blank\" href=https://colab.research.google.com/notebooks/data_table.ipynb>data table notebook</a>'\n",
              "            + ' to learn more about interactive tables.';\n",
              "          element.innerHTML = '';\n",
              "          dataTable['output_type'] = 'display_data';\n",
              "          await google.colab.output.renderOutput(dataTable, element);\n",
              "          const docLink = document.createElement('div');\n",
              "          docLink.innerHTML = docLinkHtml;\n",
              "          element.appendChild(docLink);\n",
              "        }\n",
              "      </script>\n",
              "    </div>\n",
              "  </div>\n",
              "  "
            ]
          },
          "metadata": {},
          "execution_count": 10
        }
      ]
    },
    {
      "cell_type": "code",
      "source": [
        "y.head()"
      ],
      "metadata": {
        "colab": {
          "base_uri": "https://localhost:8080/"
        },
        "id": "4SE04cIpgctp",
        "outputId": "779f2547-0cf1-47ba-da6c-fe066792222c"
      },
      "execution_count": null,
      "outputs": [
        {
          "output_type": "execute_result",
          "data": {
            "text/plain": [
              "0    HIGH\n",
              "1    HIGH\n",
              "2    HIGH\n",
              "3    HIGH\n",
              "4    HIGH\n",
              "Name: Class, dtype: object"
            ]
          },
          "metadata": {},
          "execution_count": 11
        }
      ]
    },
    {
      "cell_type": "code",
      "source": [
        "data['Class'].value_counts()"
      ],
      "metadata": {
        "colab": {
          "base_uri": "https://localhost:8080/"
        },
        "id": "RmnIW68KmKOe",
        "outputId": "004d2bfe-261a-4817-b6d5-ae14159db307"
      },
      "execution_count": null,
      "outputs": [
        {
          "output_type": "execute_result",
          "data": {
            "text/plain": [
              "HIGH      30037\n",
              "NORMAL    15470\n",
              "LOW        7053\n",
              "Name: Class, dtype: int64"
            ]
          },
          "metadata": {},
          "execution_count": 39
        }
      ]
    },
    {
      "cell_type": "code",
      "source": [
        "from sklearn.model_selection import train_test_split\n",
        "x_train, x_test, y_train, y_test = train_test_split(x,y, test_size = 0.3,random_state=6)"
      ],
      "metadata": {
        "id": "eY7SemupgKOt"
      },
      "execution_count": null,
      "outputs": []
    },
    {
      "cell_type": "code",
      "source": [
        "from sklearn.linear_model import LogisticRegression\n",
        "clf = LogisticRegression().fit(x_train, y_train)\n",
        "y_pred=clf.predict(x_test)"
      ],
      "metadata": {
        "id": "PO5ZHHEQgjX2"
      },
      "execution_count": null,
      "outputs": []
    },
    {
      "cell_type": "code",
      "source": [
        "clf.score(x_test, y_test)"
      ],
      "metadata": {
        "colab": {
          "base_uri": "https://localhost:8080/"
        },
        "id": "D9I4uYz0iOlv",
        "outputId": "b4417bd4-ad7b-4a95-8a48-c7bc3727c4bf"
      },
      "execution_count": null,
      "outputs": [
        {
          "output_type": "execute_result",
          "data": {
            "text/plain": [
              "0.6109842719431761"
            ]
          },
          "metadata": {},
          "execution_count": 50
        }
      ]
    },
    {
      "cell_type": "code",
      "source": [
        "from sklearn.neural_network import MLPClassifier\n",
        "clf = MLPClassifier(random_state=1, max_iter=200, hidden_layer_sizes=(128)).fit(x_train, y_train)"
      ],
      "metadata": {
        "id": "dfvAcr5EnjbL",
        "colab": {
          "base_uri": "https://localhost:8080/"
        },
        "outputId": "b7ca1fab-dfe8-4b4e-ec6e-f242954ee1f1"
      },
      "execution_count": 77,
      "outputs": [
        {
          "output_type": "stream",
          "name": "stderr",
          "text": [
            "/usr/local/lib/python3.7/dist-packages/sklearn/neural_network/_multilayer_perceptron.py:696: ConvergenceWarning: Stochastic Optimizer: Maximum iterations (200) reached and the optimization hasn't converged yet.\n",
            "  ConvergenceWarning,\n"
          ]
        }
      ]
    },
    {
      "cell_type": "code",
      "source": [
        "y_predicted=clf.predict(x_test)"
      ],
      "metadata": {
        "id": "V-RiZ8Zxn5D-"
      },
      "execution_count": 78,
      "outputs": []
    },
    {
      "cell_type": "code",
      "source": [
        "clf.score(x_test, y_test)"
      ],
      "metadata": {
        "colab": {
          "base_uri": "https://localhost:8080/"
        },
        "id": "q6syBCABn9sL",
        "outputId": "16b0bacb-fe11-40e5-d631-9040316d5c0f"
      },
      "execution_count": 79,
      "outputs": [
        {
          "output_type": "execute_result",
          "data": {
            "text/plain": [
              "0.8131024860476915"
            ]
          },
          "metadata": {},
          "execution_count": 79
        }
      ]
    },
    {
      "cell_type": "code",
      "source": [
        "import tensorflow as tf"
      ],
      "metadata": {
        "id": "GO3l0GPZof4-"
      },
      "execution_count": 80,
      "outputs": []
    },
    {
      "cell_type": "code",
      "source": [
        "x_train.shape"
      ],
      "metadata": {
        "colab": {
          "base_uri": "https://localhost:8080/"
        },
        "id": "jyp8uHhtsbMt",
        "outputId": "dc91911b-c9b7-42cd-c676-72ecbb3c9088"
      },
      "execution_count": 82,
      "outputs": [
        {
          "output_type": "execute_result",
          "data": {
            "text/plain": [
              "(36792, 4)"
            ]
          },
          "metadata": {},
          "execution_count": 82
        }
      ]
    },
    {
      "cell_type": "code",
      "source": [
        "from sklearn.preprocessing import MinMaxScaler "
      ],
      "metadata": {
        "id": "vN888S-yvTAT"
      },
      "execution_count": 89,
      "outputs": []
    },
    {
      "cell_type": "code",
      "source": [
        "nums=MinMaxScaler()"
      ],
      "metadata": {
        "id": "mcf8SxtZx2qI"
      },
      "execution_count": 90,
      "outputs": []
    },
    {
      "cell_type": "code",
      "source": [
        "cols=x.columns"
      ],
      "metadata": {
        "id": "tKDAPD9_x5M2"
      },
      "execution_count": 91,
      "outputs": []
    },
    {
      "cell_type": "code",
      "source": [
        "data[cols] = nums.fit_transform(data[cols])"
      ],
      "metadata": {
        "id": "XVcFxJgKx9Qj"
      },
      "execution_count": 92,
      "outputs": []
    },
    {
      "cell_type": "code",
      "source": [
        "x=data.iloc[:,0:4]\n",
        "y=data.iloc[:,4]"
      ],
      "metadata": {
        "id": "B2FGFKE-y52x"
      },
      "execution_count": 110,
      "outputs": []
    },
    {
      "cell_type": "code",
      "source": [
        "from sklearn.preprocessing import LabelEncoder\n",
        "label_encoder = LabelEncoder().fit(y)\n",
        "y = label_encoder.transform(y)"
      ],
      "metadata": {
        "id": "ChoBl7jPzZrt"
      },
      "execution_count": 98,
      "outputs": []
    },
    {
      "cell_type": "code",
      "source": [
        "from sklearn.model_selection import train_test_split\n",
        "x_train, x_test, y_train, y_test = train_test_split(x,y, test_size = 0.3,random_state=6)"
      ],
      "metadata": {
        "id": "M_Tz3IY-JrS_"
      },
      "execution_count": null,
      "outputs": []
    },
    {
      "cell_type": "code",
      "source": [
        "%%time\n",
        "model = tf.keras.models.Sequential()\n",
        "model.add(tf.keras.layers.Flatten())\n",
        "model.add(tf.keras.layers.Dense(128,activation='relu'))\n",
        "model.add(tf.keras.layers.Dense(3, activation='softmax'))\n",
        "model.compile(optimizer='adam', loss=\"sparse_categorical_crossentropy\",metrics=['accuracy'])\n",
        "model.fit(x_train,y_train, epochs=30)\n"
      ],
      "metadata": {
        "id": "RdCS4Y0bof1d",
        "colab": {
          "base_uri": "https://localhost:8080/"
        },
        "outputId": "049bf245-c422-446d-f373-952c89dcfd58"
      },
      "execution_count": 104,
      "outputs": [
        {
          "output_type": "stream",
          "name": "stdout",
          "text": [
            "Epoch 1/30\n",
            "1150/1150 [==============================] - 3s 2ms/step - loss: 0.7771 - accuracy: 0.6199\n",
            "Epoch 2/30\n",
            "1150/1150 [==============================] - 2s 2ms/step - loss: 0.6853 - accuracy: 0.6669\n",
            "Epoch 3/30\n",
            "1150/1150 [==============================] - 2s 2ms/step - loss: 0.6549 - accuracy: 0.6795\n",
            "Epoch 4/30\n",
            "1150/1150 [==============================] - 2s 2ms/step - loss: 0.6304 - accuracy: 0.6909\n",
            "Epoch 5/30\n",
            "1150/1150 [==============================] - 2s 2ms/step - loss: 0.6073 - accuracy: 0.7071\n",
            "Epoch 6/30\n",
            "1150/1150 [==============================] - 2s 2ms/step - loss: 0.5880 - accuracy: 0.7203\n",
            "Epoch 7/30\n",
            "1150/1150 [==============================] - 2s 2ms/step - loss: 0.5713 - accuracy: 0.7342\n",
            "Epoch 8/30\n",
            "1150/1150 [==============================] - 2s 2ms/step - loss: 0.5589 - accuracy: 0.7454\n",
            "Epoch 9/30\n",
            "1150/1150 [==============================] - 2s 2ms/step - loss: 0.5475 - accuracy: 0.7535\n",
            "Epoch 10/30\n",
            "1150/1150 [==============================] - 2s 2ms/step - loss: 0.5394 - accuracy: 0.7603\n",
            "Epoch 11/30\n",
            "1150/1150 [==============================] - 2s 2ms/step - loss: 0.5323 - accuracy: 0.7615\n",
            "Epoch 12/30\n",
            "1150/1150 [==============================] - 2s 2ms/step - loss: 0.5268 - accuracy: 0.7674\n",
            "Epoch 13/30\n",
            "1150/1150 [==============================] - 2s 2ms/step - loss: 0.5224 - accuracy: 0.7687\n",
            "Epoch 14/30\n",
            "1150/1150 [==============================] - 2s 2ms/step - loss: 0.5188 - accuracy: 0.7708\n",
            "Epoch 15/30\n",
            "1150/1150 [==============================] - 2s 2ms/step - loss: 0.5149 - accuracy: 0.7725\n",
            "Epoch 16/30\n",
            "1150/1150 [==============================] - 2s 2ms/step - loss: 0.5118 - accuracy: 0.7742\n",
            "Epoch 17/30\n",
            "1150/1150 [==============================] - 2s 2ms/step - loss: 0.5090 - accuracy: 0.7770\n",
            "Epoch 18/30\n",
            "1150/1150 [==============================] - 2s 2ms/step - loss: 0.5067 - accuracy: 0.7786\n",
            "Epoch 19/30\n",
            "1150/1150 [==============================] - 2s 2ms/step - loss: 0.5033 - accuracy: 0.7793\n",
            "Epoch 20/30\n",
            "1150/1150 [==============================] - 2s 2ms/step - loss: 0.5016 - accuracy: 0.7803\n",
            "Epoch 21/30\n",
            "1150/1150 [==============================] - 2s 2ms/step - loss: 0.4979 - accuracy: 0.7812\n",
            "Epoch 22/30\n",
            "1150/1150 [==============================] - 2s 2ms/step - loss: 0.4962 - accuracy: 0.7827\n",
            "Epoch 23/30\n",
            "1150/1150 [==============================] - 2s 2ms/step - loss: 0.4940 - accuracy: 0.7833\n",
            "Epoch 24/30\n",
            "1150/1150 [==============================] - 2s 2ms/step - loss: 0.4908 - accuracy: 0.7843\n",
            "Epoch 25/30\n",
            "1150/1150 [==============================] - 2s 2ms/step - loss: 0.4873 - accuracy: 0.7882\n",
            "Epoch 26/30\n",
            "1150/1150 [==============================] - 2s 2ms/step - loss: 0.4829 - accuracy: 0.7897\n",
            "Epoch 27/30\n",
            "1150/1150 [==============================] - 2s 2ms/step - loss: 0.4798 - accuracy: 0.7929\n",
            "Epoch 28/30\n",
            "1150/1150 [==============================] - 2s 2ms/step - loss: 0.4764 - accuracy: 0.7939\n",
            "Epoch 29/30\n",
            "1150/1150 [==============================] - 2s 2ms/step - loss: 0.4731 - accuracy: 0.7963\n",
            "Epoch 30/30\n",
            "1150/1150 [==============================] - 2s 2ms/step - loss: 0.4699 - accuracy: 0.7976\n",
            "CPU times: user 1min 9s, sys: 4.68 s, total: 1min 14s\n",
            "Wall time: 1min 22s\n"
          ]
        },
        {
          "output_type": "execute_result",
          "data": {
            "text/plain": [
              "<keras.callbacks.History at 0x7fa470773390>"
            ]
          },
          "metadata": {},
          "execution_count": 104
        }
      ]
    }
  ]
}